{
 "cells": [
  {
   "cell_type": "markdown",
   "metadata": {},
   "source": [
    "## Import packages"
   ]
  },
  {
   "cell_type": "code",
   "execution_count": 1,
   "metadata": {},
   "outputs": [
    {
     "ename": "ModuleNotFoundError",
     "evalue": "No module named 'src.support_cleaning'",
     "output_type": "error",
     "traceback": [
      "\u001b[1;31m---------------------------------------------------------------------------\u001b[0m",
      "\u001b[1;31mModuleNotFoundError\u001b[0m                       Traceback (most recent call last)",
      "Cell \u001b[1;32mIn[1], line 9\u001b[0m\n\u001b[0;32m      5\u001b[0m tqdm\u001b[38;5;241m.\u001b[39mpandas() \n\u001b[0;32m      7\u001b[0m sys\u001b[38;5;241m.\u001b[39mpath\u001b[38;5;241m.\u001b[39mappend(\u001b[38;5;124m\"\u001b[39m\u001b[38;5;124m..\u001b[39m\u001b[38;5;124m\"\u001b[39m)\n\u001b[1;32m----> 9\u001b[0m \u001b[38;5;28;01mfrom\u001b[39;00m \u001b[38;5;21;01msrc\u001b[39;00m\u001b[38;5;21;01m.\u001b[39;00m\u001b[38;5;21;01msupport_cleaning\u001b[39;00m \u001b[38;5;28;01mimport\u001b[39;00m normalize, apply_fill, fill_value_bidirectional\n",
      "\u001b[1;31mModuleNotFoundError\u001b[0m: No module named 'src.support_cleaning'"
     ]
    }
   ],
   "source": [
    "import pandas as pd\n",
    "import numpy as np\n",
    "import sys \n",
    "from tqdm import tqdm\n",
    "tqdm.pandas() \n",
    "\n",
    "sys.path.append(\"..\")\n",
    "\n",
    "from src.support_cleaning import normalize, apply_fill, fill_value_bidirectional"
   ]
  },
  {
   "cell_type": "markdown",
   "metadata": {},
   "source": [
    "## Data import"
   ]
  },
  {
   "cell_type": "code",
   "execution_count": null,
   "metadata": {},
   "outputs": [],
   "source": [
    "brasil_public = pd.read_parquet(\"../data/concatenated_data.parquet\")\n",
    "brasil_public.info()\n",
    "brasil_public.head()"
   ]
  },
  {
   "cell_type": "markdown",
   "metadata": {},
   "source": [
    "## Data cleaning"
   ]
  },
  {
   "cell_type": "markdown",
   "metadata": {},
   "source": [
    "First problems to correct as identified in exploration:\n",
    "- Data types for numerical features valor_previsto_atualizado, valor_lancado, valor_realizado, percentual_realizado and datetime data_lancamento\n",
    "- Missing values in nome_orgao_superior, as well as other columns, to be inferred from other columns and rows\n",
    "- Duplicated values"
   ]
  },
  {
   "cell_type": "markdown",
   "metadata": {},
   "source": [
    "### 2. Correcting data types"
   ]
  },
  {
   "cell_type": "code",
   "execution_count": 42,
   "metadata": {},
   "outputs": [],
   "source": [
    "data_types_dict = {\n",
    "    \"codigo_orgao_superior\": object,\n",
    "    \"codigo_orgao\": object,  \n",
    "    \"codigo_unidade_gestora\": object,      \n",
    "    \"valor_previsto_atualizado\": float,\n",
    "    \"valor_lancado\": float,  \n",
    "    \"valor_realizado\": float,      \n",
    "    \"percentual_realizado\": float,\n",
    "    \"data_lancamento\": \"datetime64[ns]\"\n",
    "}"
   ]
  },
  {
   "cell_type": "markdown",
   "metadata": {},
   "source": [
    "#### 2.1.1 Replacing floating commas by floating point"
   ]
  },
  {
   "cell_type": "code",
   "execution_count": 43,
   "metadata": {},
   "outputs": [],
   "source": [
    "for column, data_type in data_types_dict.items():\n",
    "    if data_type == float:\n",
    "        brasil_public[column] = brasil_public[column].str.replace(\",\",\".\")"
   ]
  },
  {
   "cell_type": "markdown",
   "metadata": {},
   "source": [
    "#### 2.1.2 Correcting data type"
   ]
  },
  {
   "cell_type": "code",
   "execution_count": null,
   "metadata": {},
   "outputs": [],
   "source": [
    "brasil_public = brasil_public.astype(data_types_dict)\n",
    "brasil_public.info()"
   ]
  },
  {
   "cell_type": "code",
   "execution_count": null,
   "metadata": {},
   "outputs": [],
   "source": [
    "brasil_public.describe().T.assign(missing_values= lambda x: brasil_public.shape[0] - x[\"count\"]).T"
   ]
  },
  {
   "cell_type": "markdown",
   "metadata": {},
   "source": [
    "Now that the numerical values have been corrected, the revenue value columns can be explored. Odd things immediately struck when seeing the negative numbers as minimum values. Theoretically, revenue should always be positive and expenditures should appear in different reports, so one possible explanation for this could be that certain corrections to the same category are made."
   ]
  },
  {
   "cell_type": "code",
   "execution_count": null,
   "metadata": {},
   "outputs": [],
   "source": [
    "brasil_public.describe(include=['O']).T.assign(missing_values= lambda x: brasil_public.shape[0] - x[\"count\"])"
   ]
  },
  {
   "cell_type": "markdown",
   "metadata": {},
   "source": [
    "### 2.2 Missing values"
   ]
  },
  {
   "cell_type": "code",
   "execution_count": null,
   "metadata": {},
   "outputs": [],
   "source": [
    "brasil_public.isna().sum()"
   ]
  },
  {
   "cell_type": "markdown",
   "metadata": {},
   "source": [
    "#### 2.2.1 Codigo orgao superior & nome_orgao_superior"
   ]
  },
  {
   "cell_type": "markdown",
   "metadata": {},
   "source": [
    "As codigo_orgao_superior and nome_orgao_superior should bear a one to one relationship, filling the gaps with one another can be a good option. To do that, a support function will be used, that takes a generated equivalence dictionary from the columns like so:"
   ]
  },
  {
   "cell_type": "code",
   "execution_count": null,
   "metadata": {},
   "outputs": [],
   "source": [
    "codigo_nome_orgao_superior = brasil_public[[\"codigo_orgao_superior\",\"nome_orgao_superior\"]].value_counts().index.to_list()\n",
    "codigo_nome_orgao_superior_dict = {codigo: nome for codigo, nome  in codigo_nome_orgao_superior}\n",
    "codigo_nome_orgao_superior_dict"
   ]
  },
  {
   "cell_type": "markdown",
   "metadata": {},
   "source": [
    "Applying the function through a pandas apply is done as per the following:"
   ]
  },
  {
   "cell_type": "code",
   "execution_count": null,
   "metadata": {},
   "outputs": [],
   "source": [
    "brasil_public[['codigo_orgao_superior_filled', 'nome_orgao_superior_filled']] = brasil_public.progress_apply(\n",
    "    lambda row: fill_value_bidirectional(row['codigo_orgao_superior'], row['nome_orgao_superior'], codigo_nome_orgao_superior_dict),\n",
    "    axis=1,\n",
    "    result_type='expand'\n",
    ")"
   ]
  },
  {
   "cell_type": "markdown",
   "metadata": {},
   "source": [
    "Now, checking that the filling works correctly:"
   ]
  },
  {
   "cell_type": "code",
   "execution_count": null,
   "metadata": {},
   "outputs": [],
   "source": [
    "# check filled vs original missing\n",
    "display(brasil_public.isna().sum())\n",
    "\n",
    "\n",
    "missing_filter_codigo = brasil_public[\"codigo_orgao_superior\"].isna() \n",
    "missing_filter_nome=  brasil_public[\"nome_orgao_superior\"].isna()\n",
    "\n",
    "# printing missing code\n",
    "display(brasil_public.loc[missing_filter_codigo,[\"codigo_orgao_superior\",\"nome_orgao_superior\",'codigo_orgao_superior_filled', 'nome_orgao_superior_filled']])\n",
    "\n",
    "# printing missing name\n",
    "brasil_public.loc[missing_filter_nome,[\"codigo_orgao_superior\",\"nome_orgao_superior\",'codigo_orgao_superior_filled', 'nome_orgao_superior_filled']]"
   ]
  },
  {
   "cell_type": "markdown",
   "metadata": {},
   "source": [
    "The check confirms that columns where 'nome_orgao_superior' was missing now have the correct name. None values are essentiallyh the same as NaN, so they are converted as such."
   ]
  },
  {
   "cell_type": "markdown",
   "metadata": {},
   "source": [
    "Now the rest of pairs can be filled with the same technique."
   ]
  },
  {
   "cell_type": "markdown",
   "metadata": {},
   "source": [
    "#### 2.2.2 Codigo_orgao & nome_orgao"
   ]
  },
  {
   "cell_type": "markdown",
   "metadata": {},
   "source": [
    "To make the code cleaner, the creation of the equivalences dictionary and the application of the filling function have been included in a higher support function."
   ]
  },
  {
   "cell_type": "code",
   "execution_count": null,
   "metadata": {},
   "outputs": [],
   "source": [
    "brasil_public[['codigo_orgao_filled', 'nome_orgao_filled']] = apply_fill(brasil_public[['codigo_orgao', 'nome_orgao']])"
   ]
  },
  {
   "cell_type": "code",
   "execution_count": null,
   "metadata": {},
   "outputs": [],
   "source": [
    "# check filled vs original missing\n",
    "display(brasil_public.isna().sum())\n",
    "\n",
    "\n",
    "missing_filter_codigo = brasil_public[\"codigo_orgao\"].isna() \n",
    "missing_filter_nome=  brasil_public[\"nome_orgao\"].isna()\n",
    "\n",
    "# printing missing code\n",
    "display(brasil_public.loc[missing_filter_codigo,[\"codigo_orgao\",\"nome_orgao\",'codigo_orgao_filled', 'nome_orgao_filled']])\n",
    "\n",
    "# printing missing name\n",
    "brasil_public.loc[missing_filter_nome,[\"codigo_orgao\",\"nome_orgao\",'codigo_orgao_filled', 'nome_orgao_filled']]"
   ]
  },
  {
   "cell_type": "markdown",
   "metadata": {},
   "source": [
    "#### 2.2.3 codigo_unidade_gestora & nome_unidade_gestora"
   ]
  },
  {
   "cell_type": "code",
   "execution_count": null,
   "metadata": {},
   "outputs": [],
   "source": [
    "brasil_public[['codigo_unidade_gestora_filled', 'nome_unidade_gestora_filled']] = apply_fill(\n",
    "                                                                                    brasil_public[['codigo_unidade_gestora', 'nome_unidade_gestora']])"
   ]
  },
  {
   "cell_type": "code",
   "execution_count": null,
   "metadata": {},
   "outputs": [],
   "source": [
    "# check filled vs original missing\n",
    "display(brasil_public.isna().sum())\n",
    "\n",
    "\n",
    "missing_filter_codigo = brasil_public[\"codigo_unidade_gestora\"].isna() \n",
    "missing_filter_nome=  brasil_public[\"nome_unidade_gestora\"].isna()\n",
    "\n",
    "# printing missing code\n",
    "display(brasil_public.loc[missing_filter_codigo,[\"codigo_unidade_gestora\",\"nome_unidade_gestora\",'codigo_unidade_gestora_filled', 'nome_unidade_gestora_filled']])\n",
    "\n",
    "# printing missing name\n",
    "brasil_public.loc[missing_filter_nome,[\"codigo_unidade_gestora\",\"nome_unidade_gestora\",'codigo_unidade_gestora_filled', 'nome_unidade_gestora_filled']]"
   ]
  },
  {
   "cell_type": "markdown",
   "metadata": {},
   "source": [
    "#### 2.2.4 categoria_economica & origem_receita & especie_receita "
   ]
  },
  {
   "cell_type": "markdown",
   "metadata": {},
   "source": [
    "These revenues groups should share a non-shared hierarchy, meaning that a origem_receita only has a categoria_economica. That could be the case for especie_receita, so let's check that by manually inspecting the value counts, first ordered by origem_receita with respect to categoria_economica. "
   ]
  },
  {
   "cell_type": "code",
   "execution_count": null,
   "metadata": {},
   "outputs": [],
   "source": [
    "pd.set_option(\"display.max_rows\",85)\n",
    "brasil_public[['categoria_economica', 'origem_receita']].value_counts().reset_index().sort_values(by=\"origem_receita\")"
   ]
  },
  {
   "cell_type": "markdown",
   "metadata": {},
   "source": [
    "As suspected, each categoria_economica bears a non-shared hierarchy with respect to origem_receita. There would be just one modification to make for this to work and that is to create a boolean column for receitas 'intra-orcamentárias'. "
   ]
  },
  {
   "cell_type": "code",
   "execution_count": null,
   "metadata": {},
   "outputs": [],
   "source": [
    "brasil_public['categoria_economica'].str.split(\" - \",expand=True)"
   ]
  },
  {
   "cell_type": "code",
   "execution_count": null,
   "metadata": {},
   "outputs": [],
   "source": [
    "brasil_public[['categoria_economica','intra_orcamentaria']] = brasil_public['categoria_economica'].str.split(\" - \",expand=True)\n"
   ]
  },
  {
   "cell_type": "code",
   "execution_count": null,
   "metadata": {},
   "outputs": [],
   "source": [
    "brasil_public['intra_orcamentaria'] = brasil_public['intra_orcamentaria'].astype(int)\n",
    "brasil_public['intra_orcamentaria'] = brasil_public['intra_orcamentaria'].astype(bool)\n",
    "brasil_public[['categoria_economica','intra_orcamentaria']]"
   ]
  },
  {
   "cell_type": "markdown",
   "metadata": {},
   "source": [
    "With that modification done, the filling method can be used unidirectionally from origem_receita to categoria_economica."
   ]
  },
  {
   "cell_type": "code",
   "execution_count": null,
   "metadata": {},
   "outputs": [],
   "source": [
    "brasil_public[['categoria_economica_filled', 'origem_receita_filled']] = apply_fill(\n",
    "                                                                                    brasil_public[['categoria_economica', 'origem_receita']], direction=\"left\")"
   ]
  },
  {
   "cell_type": "code",
   "execution_count": null,
   "metadata": {},
   "outputs": [],
   "source": [
    "display(brasil_public[['origem_receita', 'especie_receita']].value_counts().reset_index().sort_values(by=\"especie_receita\"))\n",
    "pd.set_option(\"display.max_rows\",None)"
   ]
  }
 ],
 "metadata": {
  "kernelspec": {
   "display_name": "2._Análisis_datos_brasil-lApdF4Fa",
   "language": "python",
   "name": "python3"
  },
  "language_info": {
   "codemirror_mode": {
    "name": "ipython",
    "version": 3
   },
   "file_extension": ".py",
   "mimetype": "text/x-python",
   "name": "python",
   "nbconvert_exporter": "python",
   "pygments_lexer": "ipython3",
   "version": "3.11.4"
  }
 },
 "nbformat": 4,
 "nbformat_minor": 2
}
