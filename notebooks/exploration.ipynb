{
 "cells": [
  {
   "cell_type": "code",
   "execution_count": 1,
   "metadata": {},
   "outputs": [],
   "source": [
    "import pandas as pd\n",
    "import numpy as np\n",
    "import sys \n",
    "\n",
    "sys.path.append(\"..\")\n",
    "\n",
    "from src.support_cleaning import normalize"
   ]
  },
  {
   "cell_type": "code",
   "execution_count": null,
   "metadata": {},
   "outputs": [],
   "source": [
    "data_2013 = pd.read_csv(\"../data/datos-2013.csv\", sep=\";\").assign(fichero=\"data_2013\")\n",
    "data_2013.columns = [normalize(column).replace(\" \",\"_\") for column in data_2013.columns]\n",
    "print(\"\\n\\nHead:\")\n",
    "display(data_2013.head(5))\n",
    "print(\"\\n\\nData types:\")\n",
    "data_2013.info()"
   ]
  },
  {
   "cell_type": "markdown",
   "metadata": {},
   "source": [
    "##### Data types\n",
    "Data types appear to be correct for most columns except for the following ones that are object datatypes and should instead be:\n",
    "- codigo_orgao_superior: object/category\n",
    "- codigo_orgao: object: object\n",
    "- codigo_unidade_gestora: object\n",
    "- valor_previsto_atualizado: float  \n",
    "- valor_lancado: float           \n",
    "- valor_realizado: float         \n",
    "- percentual_realizado: float\n",
    "- data_lancamento: datetime[ns]\n",
    "\n",
    "The codes although numerical, are actually a unique representation of organizations and bear no magnitude. Thus it is more interesting to change them to object to explore their summary statistics more comfortably. \n",
    "\n",
    "The revenue values carry a comma instead of a floating point, making conversion to float not feasible until replaced by a point. \n",
    "\n",
    "Data_lancamento will just need to simply be converted to datetime.\n",
    "\n",
    "This will have to be corrected with in the cleaning notebook with a dictionary of the sort below."
   ]
  },
  {
   "cell_type": "code",
   "execution_count": 4,
   "metadata": {},
   "outputs": [],
   "source": [
    "data_types_dict = {\n",
    "    \"codigo_orgao_superior\": object,\n",
    "    \"codigo_orgao\": object,  \n",
    "    \"codigo_unidade_gestora\": object,      \n",
    "    \"valor_previsto_atualizado\": float,\n",
    "    \"valor_lancado\": float,  \n",
    "    \"valor_realizado\": float,      \n",
    "    \"percentual_realizado\": float,\n",
    "    \"data_lancamento\": \"datetime64[ns]\"\n",
    "}"
   ]
  },
  {
   "cell_type": "code",
   "execution_count": null,
   "metadata": {},
   "outputs": [],
   "source": [
    "data_dict = {\n",
    "    \"data_2013\": pd.read_csv(\"../data/datos-2013.csv\", sep=\";\"),\n",
    "    \"data_2014\": pd.read_csv(\"../data/datos-2014.csv\", sep=\";\"),\n",
    "    \"data_2015\": pd.read_csv(\"../data/datos-2015.csv\", sep=\";\"),\n",
    "    \"data_2016\": pd.read_csv(\"../data/datos-2016.csv\", sep=\";\"),\n",
    "    \"data_2017\": pd.read_csv(\"../data/datos-2017.csv\", sep=\";\"),\n",
    "    \"data_2018\": pd.read_csv(\"../data/datos-2018.csv\", sep=\";\"),\n",
    "    \"data_2019\": pd.read_csv(\"../data/datos-2019.csv\", sep=\";\"),\n",
    "    \"data_2020\": pd.read_csv(\"../data/datos-2020.csv\", sep=\";\"),\n",
    "    \"data_2021\": pd.read_csv(\"../data/datos-2021.csv\", sep=\";\")\n",
    "}\n",
    "\n",
    "data_df = pd.DataFrame(columns=[normalize(column).replace(\" \",\"_\") for column in data_2013.columns])\n",
    "for df_name, df in data_dict.items():\n",
    "    df.columns = [normalize(column).replace(\" \",\"_\") for column in df.columns]\n",
    "    print(\"\\n\\n\\n\\n------------------\")\n",
    "    print(f\"\\n{df_name}\")\n",
    "    print(\"\\n\\nInfo summary\")\n",
    "    print(df.info())\n",
    "    print(\"\\n\\nDescriptive statistics summary\")\n",
    "    print(\"\\nNumerical data:\")\n",
    "    display(df.describe().T.assign(missing_values=lambda x: df.shape[0]-x[\"count\"]))\n",
    "    print(\"\\nObject types:\")\n",
    "    display(df.describe(include=['O']).T.assign(missing_values=lambda x: df.shape[0]-x[\"count\"]))\n",
    "\n",
    "    print(\"\\n\\nDuplicated values:\")\n",
    "    display(df.duplicated().sum())\n",
    "\n",
    "    data_df = pd.concat([data_df,df.assign(fichero=df_name[-4:])])\n"
   ]
  },
  {
   "cell_type": "markdown",
   "metadata": {},
   "source": [
    "The main problem with this dataset is the presence of missing values, specially problematic for the feature 'nome_orgao_superior'. Nonetheless, it seems the value from this column can in many cases be inferred from the codigo_orgao_superior or the nome_orgao column. To check that:"
   ]
  },
  {
   "cell_type": "code",
   "execution_count": null,
   "metadata": {},
   "outputs": [],
   "source": [
    "data_df.loc[:,[\"nome_orgao_superior\",\"codigo_orgao_superior\"]].head()"
   ]
  },
  {
   "cell_type": "code",
   "execution_count": null,
   "metadata": {},
   "outputs": [],
   "source": [
    "nome_orgao_superior_notnull = ~data_df[\"nome_orgao_superior\"].isna()\n",
    "nome_orgao_notnull = ~data_df[\"nome_orgao\"].isna()\n",
    "data_df.loc[nome_orgao_superior_notnull & nome_orgao_notnull,[\"nome_orgao_superior\",\"nome_orgao\"]].head()"
   ]
  },
  {
   "cell_type": "markdown",
   "metadata": {},
   "source": [
    "There are many different organizations and management units, but not so many unique types of economical categories. Details, albeit highly cardinal, seem to be part of fixed categories, at least for every given year."
   ]
  },
  {
   "cell_type": "markdown",
   "metadata": {},
   "source": [
    "One other thing to note is that the most frequent values for valor columns are 0, which might mean these are missing values not encoded as such."
   ]
  },
  {
   "cell_type": "code",
   "execution_count": null,
   "metadata": {},
   "outputs": [],
   "source": [
    "valor_previsto_atualizado_zero = data_df[\"valor_previsto_atualizado\"] == \"0,00\"\n",
    "valor_lancado = data_df[\"valor_lancado\"] == \"0,00\"\n",
    "valor_realizado = data_df[\"valor_realizado\"] == \"0,00\"\n",
    "percentual_realizado = data_df[\"percentual_realizado\"] == \"0,00\"\n",
    "data_df.loc[valor_previsto_atualizado_zero | valor_lancado | percentual_realizado | valor_realizado,:]"
   ]
  },
  {
   "cell_type": "markdown",
   "metadata": {},
   "source": [
    "It seems that NaN values are not encoded as 0 in the end. However, one thing to note is that in many cases the realised value comes from an expected value of 0 and viceversa. That means that there are of course unexpected revenues, but could also mean that there are many unrealised revenues or that sometimes the same account for a revenue divides its registration into two rows. That is something to explore once the data cleaning has been performed."
   ]
  },
  {
   "cell_type": "markdown",
   "metadata": {},
   "source": [
    "Speaking of duplicates, not many rows in the dataset are doubled and this will be solved in the cleaning phase."
   ]
  },
  {
   "cell_type": "markdown",
   "metadata": {},
   "source": [
    "\n",
    "Appart from those things, a last interesting fact is the increment in available data from the year 2016, maybe pointing to an effort to track public revenue more rigourously."
   ]
  },
  {
   "cell_type": "markdown",
   "metadata": {},
   "source": [
    "Printing the concatenated dataframe:"
   ]
  },
  {
   "cell_type": "code",
   "execution_count": null,
   "metadata": {},
   "outputs": [],
   "source": [
    "print(\"Final concatenated dataframe:\")\n",
    "data_df"
   ]
  },
  {
   "cell_type": "markdown",
   "metadata": {},
   "source": [
    "Finally, saving the concatenated dataframe to parquet for optimised storage to work with it during the cleaning phase."
   ]
  },
  {
   "cell_type": "code",
   "execution_count": 11,
   "metadata": {},
   "outputs": [],
   "source": [
    "data_df.to_parquet(\"../data/concatenated_data.parquet\")"
   ]
  },
  {
   "cell_type": "markdown",
   "metadata": {},
   "source": [
    "## 2. Exploration of cleaned data"
   ]
  },
  {
   "cell_type": "code",
   "execution_count": null,
   "metadata": {},
   "outputs": [],
   "source": [
    "cleaned_data_df = pd.read_parquet(\"../data/cleaned_data.parquet\")\n",
    "cleaned_data_df.info()"
   ]
  },
  {
   "cell_type": "code",
   "execution_count": 274,
   "metadata": {},
   "outputs": [],
   "source": [
    "value_features = [\"valor_previsto_atualizado\",\"valor_lancado\",\"valor_realizado\",\"percentual_realizado\"]"
   ]
  },
  {
   "cell_type": "code",
   "execution_count": null,
   "metadata": {},
   "outputs": [],
   "source": [
    "cleaned_data_df[value_features].describe().T.assign(nulls= lambda x: cleaned_data_df.shape[0] - x[\"count\"], \n",
    "                                                    null_pct=lambda x: x[\"nulls\"]/cleaned_data_df.shape[0]*100)\n"
   ]
  },
  {
   "cell_type": "markdown",
   "metadata": {},
   "source": [
    "Per the above descriptive summary it can be concluded that:\n",
    "- There is an enormous spread in the data for all four features.\n",
    "- Except for valor_realizado, more than 75% of the values are 0. All four features range by hundreds of millions negative and positive, showing a standard deaviation higher than the mean.\n",
    "- Nulls percentage is not too high, as it does not reach 5% (an industry standard), however, these missing values could potentially be hiding the most interesting information, that will have to be observed through analysis."
   ]
  },
  {
   "cell_type": "code",
   "execution_count": null,
   "metadata": {},
   "outputs": [],
   "source": [
    "cleaned_data_df.columns"
   ]
  },
  {
   "cell_type": "markdown",
   "metadata": {},
   "source": [
    "## 2.1 Missing values"
   ]
  },
  {
   "cell_type": "code",
   "execution_count": 277,
   "metadata": {},
   "outputs": [],
   "source": [
    "cleaned_data_df[\"nan_per_row\"] = cleaned_data_df.isna().sum(axis=1) / cleaned_data_df.shape[1]"
   ]
  },
  {
   "cell_type": "markdown",
   "metadata": {},
   "source": [
    "#### Are all zero values also missing values?"
   ]
  },
  {
   "cell_type": "code",
   "execution_count": null,
   "metadata": {},
   "outputs": [],
   "source": [
    "filtro = (cleaned_data_df['valor_previsto_atualizado'] == 0) & (cleaned_data_df['valor_realizado'] == 0) & (cleaned_data_df['valor_lancado'] == 0) & (cleaned_data_df['percentual_realizado'] == 0 )\n",
    "cleaned_data_df.loc[filtro,[\"especie_receita\",\"detalhamento\"]].value_counts().reset_index()"
   ]
  },
  {
   "cell_type": "markdown",
   "metadata": {},
   "source": [
    "Nome orgao superior"
   ]
  },
  {
   "cell_type": "code",
   "execution_count": null,
   "metadata": {},
   "outputs": [],
   "source": [
    "(cleaned_data_df.groupby('nome_orgao_superior')[['valor_previsto_atualizado','valor_lancado',\n",
    "                                                 'valor_realizado', 'percentual_realizado',]]\n",
    "                                                 .apply(lambda x: x.isna().sum())\n",
    "                                                 .sort_values(by=\"valor_previsto_atualizado\",ascending=False))"
   ]
  },
  {
   "cell_type": "code",
   "execution_count": null,
   "metadata": {},
   "outputs": [],
   "source": [
    "(cleaned_data_df.groupby('nome_orgao_superior')[['valor_previsto_atualizado','valor_lancado',\n",
    "                                                 'valor_realizado', 'percentual_realizado',]]\n",
    "                                                 .apply(lambda x: x.isna().sum()/x.count()*100)\n",
    "                                                 .sort_values(by=\"valor_realizado\",ascending=False))"
   ]
  },
  {
   "cell_type": "markdown",
   "metadata": {},
   "source": [
    "Nome orgao"
   ]
  },
  {
   "cell_type": "code",
   "execution_count": null,
   "metadata": {},
   "outputs": [],
   "source": [
    "(cleaned_data_df.groupby('nome_orgao')[['valor_previsto_atualizado','valor_lancado',\n",
    "                                                 'valor_realizado', 'percentual_realizado',]]\n",
    "                                                 .apply(lambda x: x.isna().sum())\n",
    "                                                 .sort_values(by=\"valor_realizado\",ascending=False))"
   ]
  },
  {
   "cell_type": "markdown",
   "metadata": {},
   "source": [
    "nome_unidade_gestora"
   ]
  },
  {
   "cell_type": "code",
   "execution_count": null,
   "metadata": {},
   "outputs": [],
   "source": [
    "(cleaned_data_df.groupby('nome_unidade_gestora')[['valor_previsto_atualizado','valor_lancado',\n",
    "                                                 'valor_realizado', 'percentual_realizado',]]\n",
    "                                                 .apply(lambda x: x.isna().sum())\n",
    "                                                 .sort_values(by=\"valor_realizado\",ascending=False))"
   ]
  },
  {
   "cell_type": "markdown",
   "metadata": {},
   "source": [
    "Categoria economica"
   ]
  },
  {
   "cell_type": "code",
   "execution_count": null,
   "metadata": {},
   "outputs": [],
   "source": [
    "(cleaned_data_df.groupby('categoria_economica')[['valor_previsto_atualizado','valor_lancado',\n",
    "                                                 'valor_realizado', 'percentual_realizado',]]\n",
    "                                                 .apply(lambda x: x.isna().sum())\n",
    "                                                 .sort_values(by=\"valor_realizado\",ascending=False))"
   ]
  },
  {
   "cell_type": "markdown",
   "metadata": {},
   "source": [
    "origem_receita"
   ]
  },
  {
   "cell_type": "code",
   "execution_count": null,
   "metadata": {},
   "outputs": [],
   "source": [
    "(cleaned_data_df.groupby('origem_receita')[['valor_previsto_atualizado','valor_lancado',\n",
    "                                                 'valor_realizado', 'percentual_realizado',]]\n",
    "                                                 .apply(lambda x: x.isna().sum())\n",
    "                                                 .sort_values(by=\"valor_realizado\",ascending=False))"
   ]
  },
  {
   "cell_type": "markdown",
   "metadata": {},
   "source": [
    "especie_receita"
   ]
  },
  {
   "cell_type": "code",
   "execution_count": null,
   "metadata": {},
   "outputs": [],
   "source": [
    "(cleaned_data_df.groupby('especie_receita')[['valor_previsto_atualizado','valor_lancado',\n",
    "                                                 'valor_realizado', 'percentual_realizado',]]\n",
    "                                                 .apply(lambda x: x.isna().sum())\n",
    "                                                 .sort_values(by=\"valor_realizado\",ascending=False))"
   ]
  },
  {
   "cell_type": "markdown",
   "metadata": {},
   "source": [
    "detalhamento"
   ]
  },
  {
   "cell_type": "code",
   "execution_count": null,
   "metadata": {},
   "outputs": [],
   "source": [
    "(cleaned_data_df.groupby(['origem_receita','especie_receita','detalhamento'])[['valor_previsto_atualizado','valor_lancado',\n",
    "                                                 'valor_realizado', 'percentual_realizado',]]\n",
    "                                                 .apply(lambda x: x.isna().sum())\n",
    "                                                 .sort_values(by=\"valor_realizado\",ascending=False)).head(10)"
   ]
  },
  {
   "cell_type": "markdown",
   "metadata": {},
   "source": [
    "## 3. EDA"
   ]
  },
  {
   "cell_type": "markdown",
   "metadata": {},
   "source": [
    "#### Negative values"
   ]
  },
  {
   "cell_type": "markdown",
   "metadata": {},
   "source": [
    "##### Valor realizado"
   ]
  },
  {
   "cell_type": "code",
   "execution_count": null,
   "metadata": {},
   "outputs": [],
   "source": [
    "cleaned_data_df[cleaned_data_df[\"valor_realizado\"] < 0]"
   ]
  },
  {
   "cell_type": "code",
   "execution_count": null,
   "metadata": {},
   "outputs": [],
   "source": [
    "cleaned_data_df[cleaned_data_df['valor_realizado'] < 0].groupby('nome_orgao_superior')[\"valor_realizado\"].agg([\"count\",\"sum\"]).reset_index().sort_values(by=\"sum\")"
   ]
  },
  {
   "cell_type": "code",
   "execution_count": null,
   "metadata": {},
   "outputs": [],
   "source": [
    "cleaned_data_df[cleaned_data_df['valor_realizado'] < 0].groupby('ano_exercicio')[\"valor_realizado\"].agg([\"count\",\"sum\"]).reset_index()"
   ]
  },
  {
   "cell_type": "markdown",
   "metadata": {},
   "source": [
    "#### valor_previsto_atualizado"
   ]
  },
  {
   "cell_type": "code",
   "execution_count": null,
   "metadata": {},
   "outputs": [],
   "source": [
    "pd.set_option(\"display.max_rows\",50)\n",
    "pd.set_option(\"display.max_columns\",50)\n",
    "cleaned_data_df.loc[cleaned_data_df[\"valor_previsto_atualizado\"] < 0,]"
   ]
  },
  {
   "cell_type": "markdown",
   "metadata": {},
   "source": [
    "##### Valor lancado"
   ]
  },
  {
   "cell_type": "code",
   "execution_count": null,
   "metadata": {},
   "outputs": [],
   "source": [
    "cleaned_data_df[cleaned_data_df['valor_lancado'] < 0].groupby('nome_orgao_superior')[\"valor_lancado\"].sum().reset_index().sort_values(by=\"valor_lancado\")"
   ]
  },
  {
   "cell_type": "markdown",
   "metadata": {},
   "source": [
    "### EDA"
   ]
  },
  {
   "cell_type": "markdown",
   "metadata": {},
   "source": [
    "Distribución de Ingresos por Categoría Económica:\n",
    "\n",
    "Analizar las categorías de ingresos más significativas y su participación en los ingresos totales.\n",
    "\n",
    "Calcular la diferencia promedio entre ingresos previstos y realizados por cada categoría.\n",
    "\n",
    "Análisis Temporal:\n",
    "\n",
    "Evaluar las tendencias a lo largo del tiempo, por ejemplo, cómo cambian los ingresos realizados de un mes a otro o de un año a otro.\n",
    "Identificación de Discrepancias:\n",
    "\n",
    "Investigar las categorías con mayor diferencia entre lo previsto y lo realizado, identificando patrones en la subejecución o sobre ejecución."
   ]
  },
  {
   "cell_type": "code",
   "execution_count": null,
   "metadata": {},
   "outputs": [],
   "source": [
    "cleaned_data_df.columns"
   ]
  },
  {
   "cell_type": "markdown",
   "metadata": {},
   "source": [
    "### Analizar las categorías de ingresos más significativas y su participación en los ingresos totales."
   ]
  },
  {
   "cell_type": "code",
   "execution_count": null,
   "metadata": {},
   "outputs": [],
   "source": [
    "cleaned_data_df.groupby([\"categoria_economica\"])[[\"valor_realizado\"]].sum()"
   ]
  },
  {
   "cell_type": "markdown",
   "metadata": {},
   "source": [
    "1. **Distribución de Ingresos por Categoría Económica:**\n",
    "\n",
    "   - Analizar las categorías de ingresos más significativas y su participación en los ingresos totales.\n"
   ]
  },
  {
   "cell_type": "markdown",
   "metadata": {},
   "source": [
    "The 3 top contributing revenue categories are: 'operacoes_de_credito_mercado_interno', 'contribuicoes_sociais' and 'impostos'."
   ]
  },
  {
   "cell_type": "code",
   "execution_count": null,
   "metadata": {},
   "outputs": [],
   "source": [
    "pd.set_option(\"display.max_rows\",65)\n",
    "contribution_especie = cleaned_data_df.groupby([\"especie_receita\"])[[\"valor_realizado\"]].sum().assign(valor_realizado_pct=lambda x: np.round(x[\"valor_realizado\"]/cleaned_data_df[\"valor_realizado\"].sum()*100,2)).sort_values(\"valor_realizado\",ascending=False)\n",
    "contribution_especie[0:10]"
   ]
  },
  {
   "cell_type": "markdown",
   "metadata": {},
   "source": [
    "   - Calcular la diferencia promedio entre ingresos previstos y realizados por cada categoría.\n",
    "   \n"
   ]
  },
  {
   "cell_type": "code",
   "execution_count": null,
   "metadata": {},
   "outputs": [],
   "source": [
    "cleaned_data_df[\"month\"] = cleaned_data_df[\"data_lancamento\"].dt.month\n",
    "cleaned_data_df[\"month_name\"] = cleaned_data_df[\"data_lancamento\"].dt.month_name() \n",
    "cleaned_data_df[\"register\"] = 1"
   ]
  },
  {
   "cell_type": "code",
   "execution_count": null,
   "metadata": {},
   "outputs": [],
   "source": [
    "cleaned_data_df[\"diff_valor_previsto_realizado\"] = cleaned_data_df[\"valor_realizado\"] - cleaned_data_df[\"valor_previsto_atualizado\"]"
   ]
  },
  {
   "cell_type": "code",
   "execution_count": null,
   "metadata": {},
   "outputs": [],
   "source": [
    "yearly_total_category = cleaned_data_df.groupby(['ano_exercicio', 'categoria_economica'])['diff_valor_previsto_realizado'].sum().reset_index()\n",
    "mean_yearly_revenue_category = yearly_total_category.groupby('categoria_economica')['diff_valor_previsto_realizado'].mean().reset_index()\n",
    "mean_yearly_revenue_category.columns = [\"categoria_economica\",\"mean_yearly_revenue_diff\"]\n",
    "mean_yearly_revenue_category.sort_values(by=\"mean_yearly_revenue_diff\")"
   ]
  },
  {
   "cell_type": "markdown",
   "metadata": {},
   "source": [
    "The top revenue contributing categories are also the ones showing the biggest deviation in forecast VS. realised. Although there are categories like 'alienacao_de_bens_imoveis' or 'receita_titulos_do_tesouro_nacional_resgatado' that were expecting more than 20 times more revenue (revenue_diff_valor_realizado_pct), or worse 'demais_recetas_de_capital' that expected hundreds of millions and received zero, the top first 'operacoes_de_credito_mercado_interno' that overforecasts on avegerage by a stunning 36% represents a 92% of the whole overforecasted revenue. \n",
    "\n",
    "Similarly, 'contribuicoes_sociais' and 'contribuicoes_sociais', represent respectively a 15% and a 8% of the whole overforecasted revenue. On the other hand, another top revenue contributor, 'resultado_do_banco_central_do_brasil' underforecasts by 50% and brings in a 15% of the overforcasted revenue in form of unexpected revenue."
   ]
  },
  {
   "cell_type": "code",
   "execution_count": null,
   "metadata": {},
   "outputs": [],
   "source": [
    "yearly_total_category = cleaned_data_df.groupby(['ano_exercicio', 'especie_receita'])[['diff_valor_previsto_realizado',\"valor_realizado\"]].sum().reset_index()\n",
    "mean_yearly_revenue_category = yearly_total_category.groupby('especie_receita')[['diff_valor_previsto_realizado',\"valor_realizado\"]].mean().reset_index()\n",
    "mean_yearly_revenue_category.columns = [\"especie_receita\",\"mean_yearly_revenue_diff\",\"valor_realizado\"]\n",
    "\n",
    "(mean_yearly_revenue_category.assign(revenue_diff_pct= lambda x: np.round(x[\"mean_yearly_revenue_diff\"]/x[\"mean_yearly_revenue_diff\"].sum()*100,2))\n",
    "                            .assign(revenue_diff_valor_realizado_pct=lambda x: np.round(x[\"mean_yearly_revenue_diff\"]/x[\"valor_realizado\"]*100,2))\n",
    "                            .sort_values(by=\"mean_yearly_revenue_diff\"))"
   ]
  },
  {
   "cell_type": "markdown",
   "metadata": {},
   "source": [
    "\n",
    "2. **Análisis Temporal:**\n",
    "\n",
    "   - Evaluar las tendencias a lo largo del tiempo, por ejemplo, cómo cambian los ingresos realizados de un mes a otro o de un año a otro.\n",
    "   \n"
   ]
  },
  {
   "cell_type": "markdown",
   "metadata": {},
   "source": [
    "As it can be observed from the table below, in 2017 an outstading event creates a bigger gap in the form of overforecasting, that extends up to 2019, after which it returns to its previous path. This overforecast comes from both an increment in forecast with regards to the previous year and a decrease in realised revenue."
   ]
  },
  {
   "cell_type": "code",
   "execution_count": null,
   "metadata": {},
   "outputs": [],
   "source": [
    "yearly_total = (cleaned_data_df.groupby(['ano_exercicio'])[['diff_valor_previsto_realizado',\"valor_previsto_atualizado\",\"valor_realizado\"]].sum().reset_index()\n",
    "                                .assign(pct_valor_realizado=lambda x: x[\"diff_valor_previsto_realizado\"]/x[\"valor_realizado\"]*100))\n",
    "yearly_total"
   ]
  },
  {
   "cell_type": "markdown",
   "metadata": {},
   "source": [
    "Averaging out, without lookign at the specific years yet, it seems that most months stay on even forecasting, with a slightly low undeforecasting and most months realising the same amount of revenue. \n",
    "\n",
    "However, on months January, March and December there seems to be a big overforecasting, it being tremendous in January and more moderate in December. Those dates can be explained as the moments where a forecast is prepared for the upcoming next or current year. The spike from March is harder to explain and could mean another 2 quarter forecast, but it is unlikely given that there are no other quarter forecasts."
   ]
  },
  {
   "cell_type": "code",
   "execution_count": null,
   "metadata": {},
   "outputs": [],
   "source": [
    "monthly_total = (cleaned_data_df.groupby(['month'])[['diff_valor_previsto_realizado',\"valor_previsto_atualizado\",\"valor_realizado\"]].sum().reset_index()\n",
    "                                .assign(pct_valor_realizado=lambda x: x[\"diff_valor_previsto_realizado\"]/x[\"valor_realizado\"]*100))\n",
    "monthly_total"
   ]
  },
  {
   "cell_type": "markdown",
   "metadata": {},
   "source": [
    "\n",
    "3. **Identificación de Discrepancias:**\n",
    "\n",
    "   - Investigar las categorías con mayor diferencia entre lo previsto y lo realizado, identificando patrones en la subejecución o sobre ejecución.\n",
    "   \n"
   ]
  },
  {
   "cell_type": "markdown",
   "metadata": {},
   "source": [
    "Funny enough, the biggest disruptions created from overforecasting come from the economy ministry, which is however explained its bigger contribution to the national arcs in the form of revenue collection."
   ]
  },
  {
   "cell_type": "code",
   "execution_count": null,
   "metadata": {},
   "outputs": [],
   "source": [
    "yearly_total_category = cleaned_data_df.groupby(['ano_exercicio', 'nome_orgao_superior','nome_orgao'])[['diff_valor_previsto_realizado',\"valor_realizado\"]].sum().reset_index()\n",
    "mean_yearly_revenue_category = yearly_total_category.groupby(['nome_orgao_superior','nome_orgao'])[['diff_valor_previsto_realizado',\"valor_realizado\"]].mean().reset_index()\n",
    "mean_yearly_revenue_category.columns = [\"nome_orgao_superior\",\"nome_orgao\",\"mean_yearly_revenue_diff\",\"valor_realizado\"]\n",
    "\n",
    "(mean_yearly_revenue_category.assign(revenue_diff_pct= lambda x: np.round(x[\"mean_yearly_revenue_diff\"]/x[\"mean_yearly_revenue_diff\"].sum()*100,2))\n",
    "                            .assign(revenue_diff_valor_realizado_pct=lambda x: np.round(x[\"mean_yearly_revenue_diff\"]/x[\"valor_realizado\"]*100,2))\n",
    "                            .sort_values(by=\"mean_yearly_revenue_diff\")).head(10)"
   ]
  },
  {
   "cell_type": "markdown",
   "metadata": {},
   "source": [
    "#### Discrepancies between receitas intra_orcamentaria"
   ]
  },
  {
   "cell_type": "markdown",
   "metadata": {},
   "source": [
    "The impact of intra_orcamentaria is very low."
   ]
  },
  {
   "cell_type": "code",
   "execution_count": null,
   "metadata": {},
   "outputs": [],
   "source": [
    "yearly_total_category = cleaned_data_df.groupby(['ano_exercicio', 'intra_orcamentaria'])[['diff_valor_previsto_realizado',\"valor_realizado\"]].sum().reset_index()\n",
    "mean_yearly_revenue_category = yearly_total_category.groupby('intra_orcamentaria')[['diff_valor_previsto_realizado',\"valor_realizado\"]].mean().reset_index()\n",
    "mean_yearly_revenue_category.columns = [\"intra_orcamentaria\",\"mean_yearly_revenue_diff\",\"valor_realizado\"]\n",
    "\n",
    "(mean_yearly_revenue_category.assign(revenue_diff_pct= lambda x: np.round(x[\"mean_yearly_revenue_diff\"]/x[\"mean_yearly_revenue_diff\"].sum()*100,2))\n",
    "                            .assign(revenue_diff_valor_realizado_pct=lambda x: np.round(x[\"mean_yearly_revenue_diff\"]/x[\"valor_realizado\"]*100,2))\n",
    "                            .sort_values(by=\"mean_yearly_revenue_diff\"))"
   ]
  },
  {
   "cell_type": "markdown",
   "metadata": {},
   "source": [
    "### Evaluation of situation 2017"
   ]
  },
  {
   "cell_type": "markdown",
   "metadata": {},
   "source": [
    "Between 2016 and 2017 there is a decrease in revenue. The impact is of about 0.31 billions of Brazilian reales. Inspecting throuhg the top receitas it could be possible to find the biggest contributors to this decrease:"
   ]
  },
  {
   "cell_type": "code",
   "execution_count": null,
   "metadata": {},
   "outputs": [],
   "source": [
    "top5_especies = contribution_especie[:5].index.to_list()\n",
    "filter_top5_contributors = cleaned_data_df[\"especie_receita\"].isin(top5_especies)\n",
    "filter_years = cleaned_data_df[\"ano_exercicio\"].between(2016,2020,inclusive=\"both\")\n",
    "pivot_table = cleaned_data_df[filter_top5_contributors & filter_years].pivot_table(\n",
    "    index=['especie_receita'], \n",
    "    columns='ano_exercicio', \n",
    "    values='valor_realizado', \n",
    "    aggfunc='sum'\n",
    ")\n",
    "pivot_table.sort_values(by=2016, ascending=False)"
   ]
  },
  {
   "cell_type": "code",
   "execution_count": null,
   "metadata": {},
   "outputs": [],
   "source": [
    "sum(pivot_table.loc[[\"operacoes_de_credito_mercado_interno\"],2016] - pivot_table.loc[[\"operacoes_de_credito_mercado_interno\"],2017])/10**12\n"
   ]
  },
  {
   "cell_type": "markdown",
   "metadata": {},
   "source": [
    "The result is that the revenue loss coming from the results of the bank of brasil and the operations of internal market credit had not been forecasted."
   ]
  },
  {
   "cell_type": "markdown",
   "metadata": {},
   "source": [
    "\n",
    "## Fase 4: Visualización de Datos\n",
    "\n",
    "1. **Gráficos de Barras y Líneas:**\n",
    "\n",
    "   - Crear gráficos que muestren la comparación entre ingresos previstos, lanzados y realizados para cada categoría.\n"
   ]
  },
  {
   "cell_type": "code",
   "execution_count": 481,
   "metadata": {},
   "outputs": [],
   "source": [
    "import seaborn as sns\n",
    "import matplotlib.pyplot as plt"
   ]
  },
  {
   "cell_type": "code",
   "execution_count": null,
   "metadata": {},
   "outputs": [],
   "source": [
    "top5_filter = cleaned_data_df[\"especie_receita\"].isin(contribution_especie.index[:5].to_list())\n",
    "top5_categories_melted = pd.melt(cleaned_data_df[top5_filter], id_vars=[\"ano_exercicio\",\"mes\",\"especie_receita\"] , value_vars=['valor_previsto_atualizado', 'valor_lancado','valor_realizado'])\n",
    "\n",
    "plt.figure(figsize=(20,10))\n",
    "\n",
    "plt.suptitle(\"Forecasted VS realised\")\n",
    "sns.barplot(data=top5_categories_melted,\n",
    "            x=\"especie_receita\",\n",
    "            y=\"value\",\n",
    "        hue= \"variable\",\n",
    "        estimator=\"sum\",\n",
    "        order=top5_especies)\n",
    "\n",
    "plt.tight_layout()\n",
    "plt.show()"
   ]
  },
  {
   "cell_type": "code",
   "execution_count": null,
   "metadata": {},
   "outputs": [],
   "source": [
    "plt.figure(figsize=(20,20))\n",
    "\n",
    "summarized_df = cleaned_data_df.groupby('especie_receita').agg({\n",
    "                                'valor_previsto_atualizado': 'sum',\n",
    "                                'valor_realizado': 'sum'\n",
    "                            }).reset_index()\n",
    "\n",
    "\n",
    "ordered_df = summarized_df.sort_values(by='valor_previsto_atualizado')\n",
    "my_range = range(1, len(ordered_df.index) + 1)\n",
    "\n",
    "plt.hlines(y=my_range, xmin=ordered_df['valor_previsto_atualizado'], xmax=ordered_df['valor_realizado'], color='grey', alpha=0.4, zorder=1)\n",
    "plt.scatter(ordered_df['valor_previsto_atualizado'], my_range, color='skyblue', alpha=1, label='Valor Previsto Atualizado')\n",
    "plt.scatter(ordered_df['valor_realizado'], my_range, color='lightgreen', alpha=1, label='Valor Realizado')\n",
    "\n",
    "\n",
    "plt.legend()\n",
    "plt.yticks(my_range, ordered_df['especie_receita'])\n",
    "plt.title(\"Comparison of Valor Previsto Atualizado and Valor Realizado\", loc='left')\n",
    "plt.xlabel('Value')\n",
    "plt.ylabel('Especie Receitas')\n",
    "plt.show()\n"
   ]
  },
  {
   "cell_type": "markdown",
   "metadata": {},
   "source": [
    "\n",
    "   - Graficar la evolución temporal de los ingresos realizados y previstos.\n"
   ]
  },
  {
   "cell_type": "code",
   "execution_count": null,
   "metadata": {},
   "outputs": [],
   "source": [
    "import seaborn as sns\n",
    "import matplotlib.pyplot as plt\n",
    "\n",
    "plt.figure(figsize=(20,10))\n",
    "\n",
    "plt.suptitle(\"Forecasted VS realised\")\n",
    "sns.lineplot(data=cleaned_data_df,\n",
    "            x=\"ano_exercicio\",\n",
    "            y=\"valor_previsto_atualizado\",\n",
    "        marker = \"o\", \n",
    "        linewidth = 2, \n",
    "        label=\"forecasted\",\n",
    "        color=\"blue\", \n",
    "        linestyle = \"dashed\",\n",
    "        estimator=\"sum\",\n",
    "        errorbar=None)\n",
    "sns.lineplot(data=cleaned_data_df,\n",
    "    x=\"ano_exercicio\",\n",
    "    y=\"valor_realizado\",\n",
    "    marker = \"o\", \n",
    "    linewidth = 2, \n",
    "    label=\"realised\", \n",
    "    color=\"orange\", \n",
    "    linestyle = \"dashed\",\n",
    "    estimator=\"sum\",\n",
    "    errorbar=None)\n",
    "\n",
    "plt.tight_layout()\n",
    "plt.show()"
   ]
  },
  {
   "cell_type": "code",
   "execution_count": null,
   "metadata": {},
   "outputs": [],
   "source": [
    "\n",
    "plt.figure(figsize=(20,10))\n",
    "plt.suptitle(\"Forecasted vs Realized - Stacked Area Chart\")\n",
    "\n",
    "data_pivot = cleaned_data_df[top5_filter].pivot_table(\n",
    "    index=\"ano_exercicio\", \n",
    "    columns=\"especie_receita\", \n",
    "    values=\"valor_realizado\", \n",
    "    aggfunc=\"sum\"\n",
    ").fillna(0)\n",
    "\n",
    "plt.stackplot(data_pivot.index, data_pivot.T, labels=data_pivot.columns)\n",
    "\n",
    "plt.xlabel(\"Year\")\n",
    "plt.ylabel(\"Realized Value\")\n",
    "plt.legend(loc=\"upper left\")\n",
    "\n",
    "plt.tight_layout()\n",
    "plt.show()\n"
   ]
  },
  {
   "cell_type": "code",
   "execution_count": null,
   "metadata": {},
   "outputs": [],
   "source": [
    "import seaborn as sns\n",
    "import matplotlib.pyplot as plt\n",
    "fig, axes = plt.subplots(5,2,figsize=(20,20))\n",
    "\n",
    "axes = axes.flat\n",
    "\n",
    "plt.suptitle(\"Forecasted VS realised\")\n",
    "for ax, year in enumerate(cleaned_data_df[\"ano_exercicio\"].unique()):\n",
    "    axes[ax].set_title(year)\n",
    "    sns.lineplot(data=cleaned_data_df[cleaned_data_df[\"ano_exercicio\"]==year],\n",
    "             x=\"month\",\n",
    "             y=\"valor_previsto_atualizado\",\n",
    "            marker = \"o\", \n",
    "            linewidth = 1, \n",
    "            label=\"forecasted\",\n",
    "            color=\"blue\", \n",
    "            linestyle = \"dashed\", \n",
    "            errorbar = None,\n",
    "            ax=axes[ax],\n",
    "            estimator=\"sum\")\n",
    "    sns.lineplot(data=cleaned_data_df[cleaned_data_df[\"ano_exercicio\"]==year],\n",
    "        x=\"month\",\n",
    "        y=\"valor_realizado\",\n",
    "        marker = \"o\", \n",
    "        linewidth = 1, \n",
    "        label=\"realised\", \n",
    "        color=\"orange\", \n",
    "        linestyle = \"dashed\", \n",
    "        errorbar = None,\n",
    "        ax=axes[ax],\n",
    "        estimator=\"sum\")\n",
    "    axes[ax].tick_params(axis='x', labelrotation=45)\n",
    "\n",
    "plt.tight_layout()\n",
    "plt.show()"
   ]
  },
  {
   "cell_type": "markdown",
   "metadata": {},
   "source": [
    "\n",
    "2. **Diagramas de Caja:**\n",
    "\n",
    "   - Evaluar la dispersión de las diferencias entre los valores previstos y realizados en diferentes categorías.\n",
    "  \n",
    "Los problemas concretos que te han pedido resolver son:\n",
    "\n",
    "1.\t**Desviaciones entre lo previsto y lo recaudado**: Determinar en qué categorías económicas o tipos de ingresos las diferencias son más pronunciadas.\n",
    "\n",
    "2.\t**Evolución temporal de la recaudación**: Identificar cómo han cambiado las previsiones y recaudaciones año a año, y si existen patrones temporales, como meses específicos donde hay mayores discrepancias.\n",
    "\n",
    "3.\t**Rendimiento por órgano y unidad gestora**: Evaluar qué órganos o unidades gestoras son más eficientes en términos de alcanzar las metas de recaudación y cuáles presentan consistentemente una baja ejecución."
   ]
  },
  {
   "cell_type": "markdown",
   "metadata": {},
   "source": [
    "Análisis Temporal:\n",
    "\n",
    "Evaluar las tendencias a lo largo del tiempo, por ejemplo, cómo cambian los ingresos realizados de un mes a otro o de un año a otro."
   ]
  },
  {
   "cell_type": "markdown",
   "metadata": {},
   "source": [
    "Annual total forecast vs realised"
   ]
  },
  {
   "cell_type": "markdown",
   "metadata": {},
   "source": [
    "Forecast VS. realised, monthly data per year"
   ]
  },
  {
   "cell_type": "markdown",
   "metadata": {},
   "source": [
    "### Comparison between forcasted, launched and realised"
   ]
  },
  {
   "cell_type": "markdown",
   "metadata": {},
   "source": [
    "1. **Distribución de Ingresos por Categoría Económica:**\n",
    "\n",
    "   - Analizar las categorías de ingresos más significativas y su participación en los ingresos totales.\n"
   ]
  },
  {
   "cell_type": "markdown",
   "metadata": {},
   "source": [
    "\n",
    "   - Calcular la diferencia promedio entre ingresos previstos y realizados por cada categoría.\n",
    "\n",
    "2. **Análisis Temporal:**\n",
    "\n",
    "   - Evaluar las tendencias a lo largo del tiempo, por ejemplo, cómo cambian los ingresos realizados de un mes a otro o de un año a otro.\n",
    "\n",
    "3. **Identificación de Discrepancias:**\n",
    "\n",
    "   - Investigar las categorías con mayor diferencia entre lo previsto y lo realizado, identificando patrones en la subejecución o sobre ejecución.\n",
    "\n",
    "## Fase 4: Visualización de Datos\n",
    "\n",
    "1. **Gráficos de Barras y Líneas:**\n",
    "\n",
    "   - Crear gráficos que muestren la comparación entre ingresos previstos, lanzados y realizados para cada categoría.\n",
    "\n",
    "   - Graficar la evolución temporal de los ingresos realizados y previstos.\n",
    "\n",
    "2. **Diagramas de Caja:**\n",
    "\n",
    "   - Evaluar la dispersión de las diferencias entre los valores previstos y realizados en diferentes categorías.\n",
    "  \n",
    "Los problemas concretos que te han pedido resolver son:\n",
    "\n",
    "1.\t**Desviaciones entre lo previsto y lo recaudado**: Determinar en qué categorías económicas o tipos de ingresos las diferencias son más pronunciadas.\n",
    "\n",
    "2.\t**Evolución temporal de la recaudación**: Identificar cómo han cambiado las previsiones y recaudaciones año a año, y si existen patrones temporales, como meses específicos donde hay mayores discrepancias.\n",
    "\n",
    "3.\t**Rendimiento por órgano y unidad gestora**: Evaluar qué órganos o unidades gestoras son más eficientes en términos de alcanzar las metas de recaudación y cuáles presentan consistentemente una baja ejecución."
   ]
  },
  {
   "cell_type": "markdown",
   "metadata": {},
   "source": [
    "### Distributions"
   ]
  },
  {
   "cell_type": "code",
   "execution_count": 487,
   "metadata": {},
   "outputs": [],
   "source": [
    "value_features = [\"valor_previsto_atualizado\",\"valor_lancado\",\"valor_realizado\",\"percentual_realizado\",\"diff_valor_previsto_realizado\"]\n",
    "contribution_especie_top10 = contribution_especie[:10].index.to_list()"
   ]
  },
  {
   "cell_type": "code",
   "execution_count": null,
   "metadata": {},
   "outputs": [],
   "source": [
    "fig, axes = plt.subplots(5,2,figsize=(20,10), sharex=True)\n",
    "\n",
    "axes = axes.flat\n",
    "\n",
    "plt.suptitle(\"Histogram per type of valor - logarithmic scale\")\n",
    "for ax, especie in enumerate(contribution_especie_top10):\n",
    "    # axes[ax].set_xscale(\"log\")\n",
    "    axes[ax].set_title(especie.capitalize())\n",
    "    sns.boxplot(data = cleaned_data_df.query('especie_receita == @especie'), x=\"diff_valor_previsto_realizado\", ax=axes[ax])\n",
    "\n",
    "plt.tight_layout()\n",
    "plt.show()"
   ]
  },
  {
   "cell_type": "code",
   "execution_count": null,
   "metadata": {},
   "outputs": [],
   "source": [
    "cleaned_data_df.nunique()"
   ]
  },
  {
   "cell_type": "code",
   "execution_count": null,
   "metadata": {},
   "outputs": [],
   "source": [
    "fig, axes = plt.subplots(5,2,figsize=(20,10), sharex=True)\n",
    "\n",
    "axes = axes.flat\n",
    "\n",
    "plt.suptitle(\"Histogram per type of valor - logarithmic scale\")\n",
    "for ax, especie in enumerate(cleaned_data_df.nome_orao):\n",
    "    # axes[ax].set_xscale(\"log\")\n",
    "    axes[ax].set_title(especie.capitalize())\n",
    "    sns.boxplot(data = cleaned_data_df.query('especie_receita == @especie'), x=\"diff_valor_previsto_realizado\", ax=axes[ax])\n",
    "\n",
    "plt.tight_layout()\n",
    "plt.show()"
   ]
  },
  {
   "cell_type": "code",
   "execution_count": null,
   "metadata": {},
   "outputs": [],
   "source": [
    "pd.set_option(\"display.max_rows\",65)\n",
    "contribution_especie = cleaned_data_df.groupby([\"nome_unidade_gestora\"])[[\"valor_realizado\"]].sum().assign(valor_realizado_pct=lambda x: np.round(x[\"valor_realizado\"]/cleaned_data_df[\"valor_realizado\"].sum()*100,2)).sort_values(\"valor_realizado\",ascending=False)\n",
    "contribution_especie[0:10]"
   ]
  },
  {
   "cell_type": "code",
   "execution_count": null,
   "metadata": {},
   "outputs": [],
   "source": [
    "pd.set_option(\"display.max_rows\",65)\n",
    "contribution_especie = cleaned_data_df.groupby([\"nome_orgao\"])[[\"valor_realizado\"]].sum().assign(valor_realizado_pct=lambda x: np.round(x[\"valor_realizado\"]/cleaned_data_df[\"valor_realizado\"].sum()*100,2)).sort_values(\"valor_realizado\",ascending=False)\n",
    "contribution_especie[0:10]"
   ]
  },
  {
   "cell_type": "markdown",
   "metadata": {},
   "source": [
    "In general, it seems that smaller, non financially related entities perform better than bigger ones."
   ]
  },
  {
   "cell_type": "code",
   "execution_count": null,
   "metadata": {},
   "outputs": [],
   "source": [
    "yearly_total_category = cleaned_data_df.groupby(['ano_exercicio', 'nome_orgao'])[['diff_valor_previsto_realizado',\"valor_realizado\"]].sum().reset_index()\n",
    "mean_yearly_revenue_category = yearly_total_category.groupby('nome_orgao')[['diff_valor_previsto_realizado',\"valor_realizado\"]].mean().reset_index()\n",
    "mean_yearly_revenue_category.columns = [\"nome_orgao\",\"mean_yearly_revenue_diff\",\"valor_realizado\"]\n",
    "\n",
    "(mean_yearly_revenue_category.assign(revenue_diff_pct= lambda x: np.round(x[\"mean_yearly_revenue_diff\"]/x[\"mean_yearly_revenue_diff\"].sum()*100,2))\n",
    "                            .assign(revenue_diff_valor_realizado_pct=lambda x: np.round(x[\"mean_yearly_revenue_diff\"]/x[\"valor_realizado\"]*100,2))\n",
    "                            .sort_values(by=\"mean_yearly_revenue_diff\"))"
   ]
  },
  {
   "cell_type": "code",
   "execution_count": null,
   "metadata": {},
   "outputs": [],
   "source": [
    "yearly_total_category = cleaned_data_df.groupby(['ano_exercicio', 'nome_unidade_gestora'])[['diff_valor_previsto_realizado',\"valor_realizado\"]].sum().reset_index()\n",
    "mean_yearly_revenue_category = yearly_total_category.groupby('nome_unidade_gestora')[['diff_valor_previsto_realizado',\"valor_realizado\"]].mean().reset_index()\n",
    "mean_yearly_revenue_category.columns = [\"nome_unidade_gestora\",\"mean_yearly_revenue_diff\",\"valor_realizado\"]\n",
    "\n",
    "(mean_yearly_revenue_category.assign(revenue_diff_pct= lambda x: np.round(x[\"mean_yearly_revenue_diff\"]/x[\"mean_yearly_revenue_diff\"].sum()*100,2))\n",
    "                            .assign(revenue_diff_valor_realizado_pct=lambda x: np.round(x[\"mean_yearly_revenue_diff\"]/x[\"valor_realizado\"]*100,2))\n",
    "                            .sort_values(by=\"mean_yearly_revenue_diff\"))"
   ]
  },
  {
   "cell_type": "code",
   "execution_count": null,
   "metadata": {},
   "outputs": [],
   "source": []
  }
 ],
 "metadata": {
  "kernelspec": {
   "display_name": "2._Análisis_datos_brasil-lApdF4Fa",
   "language": "python",
   "name": "python3"
  },
  "language_info": {
   "codemirror_mode": {
    "name": "ipython",
    "version": 3
   },
   "file_extension": ".py",
   "mimetype": "text/x-python",
   "name": "python",
   "nbconvert_exporter": "python",
   "pygments_lexer": "ipython3",
   "version": "3.11.4"
  }
 },
 "nbformat": 4,
 "nbformat_minor": 2
}
